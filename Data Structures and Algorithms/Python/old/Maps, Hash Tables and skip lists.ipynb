{
 "cells": [
  {
   "cell_type": "code",
   "execution_count": 1,
   "id": "solar-ghana",
   "metadata": {},
   "outputs": [],
   "source": [
    "def count_words(filepath):\n",
    "    freq = {}\n",
    "    for piece in open(filepath).read().lower().split():\n",
    "        # only consider alphabetic characters \n",
    "        word = ''.join(c for c in piece if c.isalpha())\n",
    "        if word:\n",
    "            freq[word] = 1 + freq.get(word, 0) # creates a word key with a default value of 0 & updates with 1 every time\n",
    "            \n",
    "    max_word = ''\n",
    "    max_count = 0\n",
    "    for word, count in freq.items():\n",
    "        if count > max_count:\n",
    "            max_word = word\n",
    "            max_count = count\n",
    "            \n",
    "    print('The most frequent word is', max_word)\n",
    "    print('Its number of occurences is', max_count)"
   ]
  },
  {
   "cell_type": "code",
   "execution_count": 2,
   "id": "requested-harvard",
   "metadata": {},
   "outputs": [],
   "source": [
    "filepath = r'C:\\Users\\HP Probook\\Documents\\Programming files\\Python codes\\Billboard\\Rihanna.txt'"
   ]
  },
  {
   "cell_type": "code",
   "execution_count": 3,
   "id": "arranged-default",
   "metadata": {},
   "outputs": [
    {
     "name": "stdout",
     "output_type": "stream",
     "text": [
      "The most frequent word is rihanna\n",
      "Its number of occurences is 11\n"
     ]
    }
   ],
   "source": [
    "count_words(filepath=filepath)"
   ]
  },
  {
   "cell_type": "markdown",
   "id": "rental-wright",
   "metadata": {},
   "source": [
    "### MapBase"
   ]
  },
  {
   "cell_type": "code",
   "execution_count": 6,
   "id": "hollywood-vision",
   "metadata": {},
   "outputs": [],
   "source": [
    "from collections.abc import MutableMapping\n",
    "class MapBase(MutableMapping):\n",
    "    \"\"\"An abstract base class that includes a nonpublic _Item class\"\"\"\n",
    "    #------------nested _Item class\n",
    "    \n",
    "    class _Item:\n",
    "        \"\"\"Lightweight composite to store key-value pairs as map items\"\"\"\n",
    "        __slots__ = '_key', '_value'\n",
    "        \n",
    "        def __init__(self, k, v):\n",
    "            self._key = k\n",
    "            self._value = v\n",
    "        \n",
    "        def __eq__(self, other):\n",
    "            return self._key == other._key # compares items based on their keys\n",
    "        \n",
    "        def __ne__(self, other):\n",
    "            return not(self == other) # opposite of __eq__\n",
    "        \n",
    "        def __It__(self, other):\n",
    "            return self._key < other._key # compare items based on their keys"
   ]
  },
  {
   "cell_type": "code",
   "execution_count": 17,
   "id": "historic-caution",
   "metadata": {},
   "outputs": [],
   "source": [
    "class UnsortedTableMap(MapBase):\n",
    "    \"\"\"Map implementation using an unordered list\"\"\"\n",
    "    \n",
    "    def __init__(self):\n",
    "        \"\"\"Create an empty map\"\"\"\n",
    "        self._table = [] # list of _Items\n",
    "        \n",
    "    def __getitem__(self, k):\n",
    "        \"\"\"Return value associated with key k (raise KeyError if not found)\"\"\"\n",
    "        for item in self._table:\n",
    "            if k == item._key:\n",
    "                return item._value\n",
    "        raise KeyError('Key Error: ' + repr(k))\n",
    "        \n",
    "    def __setitem__(self, k, v):\n",
    "        \"\"\"Asign value v to key k, overwriting existing value if present\"\"\"\n",
    "        for item in self._table:\n",
    "            if k == item._key: # found a match\n",
    "                item._value = v\n",
    "                return\n",
    "        self._table.append(self._Item(k, v))\n",
    "        \n",
    "    def __delitem__(self, k):\n",
    "        \"\"\"Remove item associated with key k (raise KeyError if not found)\"\"\"\n",
    "        for j in range(len(self._table)):\n",
    "            if k == self._table[j]._key: # found a match\n",
    "                self._table.pop(j) # remove item\n",
    "                return # and quit\n",
    "        raise KeyError('Key Error: ' + repr(k))\n",
    "        \n",
    "    def __len__(self):\n",
    "        \"\"\"Return number of items in the map\"\"\"\n",
    "        return len(self._table)\n",
    "    \n",
    "    def __iter__(self):\n",
    "        \"\"\"Generate iteration of the map's keys\"\"\"\n",
    "        for item in self._table:\n",
    "            yield item._key"
   ]
  },
  {
   "cell_type": "code",
   "execution_count": 22,
   "id": "atomic-timing",
   "metadata": {},
   "outputs": [],
   "source": [
    "x = UnsortedTableMap()"
   ]
  },
  {
   "cell_type": "code",
   "execution_count": 23,
   "id": "fabulous-reply",
   "metadata": {},
   "outputs": [],
   "source": [
    "x.__setitem__(2, 5)"
   ]
  },
  {
   "cell_type": "code",
   "execution_count": 24,
   "id": "cultural-jacob",
   "metadata": {},
   "outputs": [
    {
     "data": {
      "text/plain": [
       "1"
      ]
     },
     "execution_count": 24,
     "metadata": {},
     "output_type": "execute_result"
    }
   ],
   "source": [
    "x.__len__()"
   ]
  },
  {
   "cell_type": "code",
   "execution_count": 25,
   "id": "photographic-forth",
   "metadata": {},
   "outputs": [
    {
     "data": {
      "text/plain": [
       "5"
      ]
     },
     "execution_count": 25,
     "metadata": {},
     "output_type": "execute_result"
    }
   ],
   "source": [
    "x.__getitem__(2)"
   ]
  },
  {
   "cell_type": "code",
   "execution_count": 26,
   "id": "minus-lesson",
   "metadata": {},
   "outputs": [],
   "source": [
    "x.__setitem__(3, 20)\n",
    "x.__setitem__('keyx', 54)"
   ]
  },
  {
   "cell_type": "code",
   "execution_count": 27,
   "id": "generous-china",
   "metadata": {},
   "outputs": [
    {
     "data": {
      "text/plain": [
       "3"
      ]
     },
     "execution_count": 27,
     "metadata": {},
     "output_type": "execute_result"
    }
   ],
   "source": [
    "x.__len__()"
   ]
  },
  {
   "cell_type": "code",
   "execution_count": 29,
   "id": "rocky-report",
   "metadata": {},
   "outputs": [
    {
     "data": {
      "text/plain": [
       "[2, 3, 'keyx']"
      ]
     },
     "execution_count": 29,
     "metadata": {},
     "output_type": "execute_result"
    }
   ],
   "source": [
    "f = x.__iter__()\n",
    "list(f)"
   ]
  },
  {
   "cell_type": "code",
   "execution_count": 30,
   "id": "explicit-romantic",
   "metadata": {},
   "outputs": [],
   "source": [
    "x.__delitem__('keyx')"
   ]
  },
  {
   "cell_type": "code",
   "execution_count": 31,
   "id": "legendary-underground",
   "metadata": {},
   "outputs": [
    {
     "ename": "KeyError",
     "evalue": "\"Key Error: 'keyx'\"",
     "output_type": "error",
     "traceback": [
      "\u001b[1;31m---------------------------------------------------------------------------\u001b[0m",
      "\u001b[1;31mKeyError\u001b[0m                                  Traceback (most recent call last)",
      "\u001b[1;32m<ipython-input-31-a8e8641b905e>\u001b[0m in \u001b[0;36m<module>\u001b[1;34m\u001b[0m\n\u001b[1;32m----> 1\u001b[1;33m \u001b[0mx\u001b[0m\u001b[1;33m.\u001b[0m\u001b[0m__getitem__\u001b[0m\u001b[1;33m(\u001b[0m\u001b[1;34m'keyx'\u001b[0m\u001b[1;33m)\u001b[0m\u001b[1;33m\u001b[0m\u001b[1;33m\u001b[0m\u001b[0m\n\u001b[0m",
      "\u001b[1;32m<ipython-input-17-d71f230345d6>\u001b[0m in \u001b[0;36m__getitem__\u001b[1;34m(self, k)\u001b[0m\n\u001b[0;32m     11\u001b[0m             \u001b[1;32mif\u001b[0m \u001b[0mk\u001b[0m \u001b[1;33m==\u001b[0m \u001b[0mitem\u001b[0m\u001b[1;33m.\u001b[0m\u001b[0m_key\u001b[0m\u001b[1;33m:\u001b[0m\u001b[1;33m\u001b[0m\u001b[1;33m\u001b[0m\u001b[0m\n\u001b[0;32m     12\u001b[0m                 \u001b[1;32mreturn\u001b[0m \u001b[0mitem\u001b[0m\u001b[1;33m.\u001b[0m\u001b[0m_value\u001b[0m\u001b[1;33m\u001b[0m\u001b[1;33m\u001b[0m\u001b[0m\n\u001b[1;32m---> 13\u001b[1;33m         \u001b[1;32mraise\u001b[0m \u001b[0mKeyError\u001b[0m\u001b[1;33m(\u001b[0m\u001b[1;34m'Key Error: '\u001b[0m \u001b[1;33m+\u001b[0m \u001b[0mrepr\u001b[0m\u001b[1;33m(\u001b[0m\u001b[0mk\u001b[0m\u001b[1;33m)\u001b[0m\u001b[1;33m)\u001b[0m\u001b[1;33m\u001b[0m\u001b[1;33m\u001b[0m\u001b[0m\n\u001b[0m\u001b[0;32m     14\u001b[0m \u001b[1;33m\u001b[0m\u001b[0m\n\u001b[0;32m     15\u001b[0m     \u001b[1;32mdef\u001b[0m \u001b[0m__setitem__\u001b[0m\u001b[1;33m(\u001b[0m\u001b[0mself\u001b[0m\u001b[1;33m,\u001b[0m \u001b[0mk\u001b[0m\u001b[1;33m,\u001b[0m \u001b[0mv\u001b[0m\u001b[1;33m)\u001b[0m\u001b[1;33m:\u001b[0m\u001b[1;33m\u001b[0m\u001b[1;33m\u001b[0m\u001b[0m\n",
      "\u001b[1;31mKeyError\u001b[0m: \"Key Error: 'keyx'\""
     ]
    }
   ],
   "source": [
    "x.__getitem__('keyx')"
   ]
  },
  {
   "cell_type": "markdown",
   "id": "virtual-muscle",
   "metadata": {},
   "source": [
    "### Hash Tables"
   ]
  },
  {
   "cell_type": "code",
   "execution_count": 104,
   "id": "overhead-tulsa",
   "metadata": {},
   "outputs": [],
   "source": [
    "from random import randrange\n",
    "class HashMapBase(MapBase):\n",
    "    \"\"\"Abstract base class for map using hash-table with MAD compression\"\"\"\n",
    "    def __init__(self, cap=11, p=109345121):\n",
    "        \"\"\"Create an empty hash-table map\"\"\"\n",
    "        self._table = cap *[None]\n",
    "        self._n = 0 # number of entries in the map\n",
    "        self._prime = p\n",
    "        self._scale = 1 + randrange(p - 1) # scale from 1 to p - 1 for MAD\n",
    "        self._shift = randrange(p) # shift from 0 to p-1 for MAD\n",
    "        \n",
    "    def _hash_function(self, k):\n",
    "        return (hash(k) * self._scale + self._shift) % self._prime % len(self._table)\n",
    "    \n",
    "    def __len__(self):\n",
    "        return self._n\n",
    "    \n",
    "    def __getitem__(self, k):\n",
    "        j = self._hash_function(k)\n",
    "        return self._bucket_getitem(j, k) # this may raise KeyError\n",
    "    \n",
    "    def __setitem__(self, k, v):\n",
    "        j = self._hash_function(k)\n",
    "        self._bucket_setitem(j, k, v)\n",
    "        if self._n > len(self._table)//2: # keep load factor <= 0.5\n",
    "            self._resize( 2 * len(self._table) - 1) # to resize to a prime number\n",
    "            \n",
    "    def __delitem__(self, k):\n",
    "        j = self._hash_function(k)\n",
    "        self._bucket_delitem(j, k)\n",
    "        self._n -= 1\n",
    "        \n",
    "    def _resize(self, c):\n",
    "        old = list(self.items())\n",
    "        self._table = c*[None]\n",
    "        self._n = 0 # n will be recomputed during subsequent adds\n",
    "        for (k, v) in old:\n",
    "            self[k] = v # reinsert old key-value pair"
   ]
  },
  {
   "cell_type": "code",
   "execution_count": 105,
   "id": "environmental-puppy",
   "metadata": {},
   "outputs": [],
   "source": [
    "class ChainHashMap(HashMapBase):\n",
    "    \"\"\"Hash map implemented with separate chaining for collision resolution\"\"\"\n",
    "    \n",
    "    def _bucket_getitem(self, j, k):\n",
    "        bucket = self._table[j]\n",
    "        if bucket is None:\n",
    "            raise KeyError('Key Error: ' + repr(k)) # no match found\n",
    "        return bucket[k]\n",
    "        \n",
    "    def _bucket_setitem(self, j, k, v):\n",
    "        if self._table[j] is None:\n",
    "            self._table[j] = UnsortedTableMap() # creates an instance of a map, bucket is new to the table\n",
    "        oldsize = len(self._table[j])\n",
    "        self._table[j][k] = v\n",
    "        if len(self._table[j]) > oldsize: # key is new to the table\n",
    "            self._n += 1\n",
    "            \n",
    "    def _bucket_delitem(self, j, k):\n",
    "        bucket = self._table[j]\n",
    "        if bucket is None:\n",
    "            raise KeyError('Key Error: ' + repr(k)) # no match found\n",
    "        del bucket[k]\n",
    "        \n",
    "    def __iter__(self):\n",
    "        for bucket in self._table:\n",
    "            if bucket is not None:\n",
    "                for key in bucket:\n",
    "                    yield key"
   ]
  },
  {
   "cell_type": "code",
   "execution_count": 106,
   "id": "unlike-legislation",
   "metadata": {},
   "outputs": [],
   "source": [
    "y = ChainHashMap()"
   ]
  },
  {
   "cell_type": "code",
   "execution_count": 107,
   "id": "fuzzy-empty",
   "metadata": {},
   "outputs": [
    {
     "data": {
      "text/plain": [
       "0"
      ]
     },
     "execution_count": 107,
     "metadata": {},
     "output_type": "execute_result"
    }
   ],
   "source": [
    "y.__len__()"
   ]
  },
  {
   "cell_type": "code",
   "execution_count": 108,
   "id": "fatty-horizontal",
   "metadata": {},
   "outputs": [],
   "source": [
    "y.__setitem__(2, 5)"
   ]
  },
  {
   "cell_type": "code",
   "execution_count": 109,
   "id": "intimate-metro",
   "metadata": {},
   "outputs": [
    {
     "data": {
      "text/plain": [
       "1"
      ]
     },
     "execution_count": 109,
     "metadata": {},
     "output_type": "execute_result"
    }
   ],
   "source": [
    "y.__len__()"
   ]
  },
  {
   "cell_type": "code",
   "execution_count": 110,
   "id": "nasty-clothing",
   "metadata": {},
   "outputs": [],
   "source": [
    "y.__setitem__(3, 20)"
   ]
  },
  {
   "cell_type": "code",
   "execution_count": 111,
   "id": "guided-girlfriend",
   "metadata": {},
   "outputs": [],
   "source": [
    "y.__setitem__('four', 44)"
   ]
  },
  {
   "cell_type": "code",
   "execution_count": 112,
   "id": "signal-contrast",
   "metadata": {},
   "outputs": [
    {
     "data": {
      "text/plain": [
       "3"
      ]
     },
     "execution_count": 112,
     "metadata": {},
     "output_type": "execute_result"
    }
   ],
   "source": [
    "y.__len__()"
   ]
  },
  {
   "cell_type": "code",
   "execution_count": 113,
   "id": "banner-stake",
   "metadata": {},
   "outputs": [
    {
     "data": {
      "text/plain": [
       "44"
      ]
     },
     "execution_count": 113,
     "metadata": {},
     "output_type": "execute_result"
    }
   ],
   "source": [
    "y.__getitem__('four')"
   ]
  },
  {
   "cell_type": "markdown",
   "id": "about-basics",
   "metadata": {},
   "source": [
    "### Linear Probing"
   ]
  },
  {
   "cell_type": "code",
   "execution_count": 114,
   "id": "professional-duplicate",
   "metadata": {},
   "outputs": [],
   "source": [
    "class ProbeHashMap(HashMapBase):\n",
    "    \"\"\"Hash map, implemented with linear probing for collision resolution\"\"\"\n",
    "    _AVAIL = object() # sentinel marks locations of previous deletions\n",
    "    \n",
    "    def _is_available(self, j):\n",
    "        \"\"\"Return True if index j is available in table\"\"\"\n",
    "        return self._table[j] is None or self._table[j] is ProbeHashMap._AVAIL\n",
    "    \n",
    "    def _find_slot(self, j, k):\n",
    "        \"\"\"Search for key k in bucket at index j\n",
    "        \n",
    "        Return (success, index) tuple described as follows:\n",
    "        If match was found, success is True and index denotes its location\n",
    "        If no match was found, success if False and index denotes first available slot\"\"\"\n",
    "        \n",
    "        firstAvail = None\n",
    "        while True:\n",
    "            if self._is_available(j):\n",
    "                if firstAvail is None:\n",
    "                    firstAvail = j\n",
    "                if self._table[j] is None:\n",
    "                    return (False, firstAvail)\n",
    "            elif k == self._table[j]._key:\n",
    "                return (True, j)\n",
    "            j = (j + 1)%len(self._table) # keep looking cyclically\n",
    "            \n",
    "    def _bucket_getitem(self, j, k):\n",
    "        found, s = self._find_slot(j, k)\n",
    "        if not found:\n",
    "            raise KeyError('Key Error: ' + repr(k))\n",
    "        return self._table[s]._value\n",
    "    \n",
    "    def _bucket_setitem(self, j, k, v):\n",
    "        found, s = self._find_slot(j, k)\n",
    "        if not found:\n",
    "            self._table[s] = self._Item(k, v) # insert new item\n",
    "            self._n += 1 # increase size\n",
    "        else:\n",
    "            self._table[s]._value = v # overwrite existing\n",
    "            \n",
    "    def _bucket_delitem(self, j, k):\n",
    "        found, s = self._find_slot(j, k)\n",
    "        if not found:\n",
    "            raise KeyError('Key Error: ' + repr(k))\n",
    "        self._table[s] = ProbeHashMap._AVAIL # mark the spot as vacted\n",
    "        \n",
    "    def __iter__(self):\n",
    "        for j in range(len(self._table)):\n",
    "            if not self._is_available(j):\n",
    "                yield self._table[j]._key"
   ]
  },
  {
   "cell_type": "code",
   "execution_count": 115,
   "id": "outstanding-sphere",
   "metadata": {},
   "outputs": [],
   "source": [
    "z = ProbeHashMap()"
   ]
  },
  {
   "cell_type": "code",
   "execution_count": 116,
   "id": "general-racing",
   "metadata": {},
   "outputs": [
    {
     "data": {
      "text/plain": [
       "0"
      ]
     },
     "execution_count": 116,
     "metadata": {},
     "output_type": "execute_result"
    }
   ],
   "source": [
    "z.__len__()"
   ]
  },
  {
   "cell_type": "code",
   "execution_count": 117,
   "id": "micro-estate",
   "metadata": {},
   "outputs": [],
   "source": [
    "z.__setitem__(2, 5)"
   ]
  },
  {
   "cell_type": "code",
   "execution_count": 118,
   "id": "preceding-challenge",
   "metadata": {},
   "outputs": [],
   "source": [
    "z.__setitem__(3, 10)\n",
    "z.__setitem__('three', 2)\n",
    "z.__setitem__(34, 'Akorede')"
   ]
  },
  {
   "cell_type": "code",
   "execution_count": 119,
   "id": "popular-initial",
   "metadata": {},
   "outputs": [
    {
     "data": {
      "text/plain": [
       "4"
      ]
     },
     "execution_count": 119,
     "metadata": {},
     "output_type": "execute_result"
    }
   ],
   "source": [
    "z.__len__()"
   ]
  },
  {
   "cell_type": "code",
   "execution_count": 120,
   "id": "municipal-affect",
   "metadata": {},
   "outputs": [
    {
     "data": {
      "text/plain": [
       "[3, 34, 'three', 2]"
      ]
     },
     "execution_count": 120,
     "metadata": {},
     "output_type": "execute_result"
    }
   ],
   "source": [
    "l = list(z.__iter__())\n",
    "l"
   ]
  },
  {
   "cell_type": "code",
   "execution_count": 121,
   "id": "dramatic-engine",
   "metadata": {},
   "outputs": [],
   "source": [
    "z.__delitem__('three')"
   ]
  },
  {
   "cell_type": "code",
   "execution_count": 122,
   "id": "steady-standing",
   "metadata": {},
   "outputs": [
    {
     "data": {
      "text/plain": [
       "3"
      ]
     },
     "execution_count": 122,
     "metadata": {},
     "output_type": "execute_result"
    }
   ],
   "source": [
    "z.__len__()"
   ]
  },
  {
   "cell_type": "markdown",
   "id": "desirable-darwin",
   "metadata": {},
   "source": [
    "### Sorted Maps"
   ]
  },
  {
   "cell_type": "code",
   "execution_count": 123,
   "id": "mighty-clinton",
   "metadata": {},
   "outputs": [],
   "source": [
    "class SortedTableMap(MapBase):\n",
    "    \"\"\"Map implemntation using a sorted table\"\"\"\n",
    "    \n",
    "    #-----------nonpublic behaviors ------------\n",
    "    def _find_index(self, k, low, high):\n",
    "        \"\"\"Return index of the leftmost item with key greater than or equal to k\n",
    "        \n",
    "        Return high + 1 if no such item qualifies\n",
    "        That is, j will be returned such that:\n",
    "        all items of slice table[low:j] have key < k\n",
    "        all items of slice table[j:high + 1] have key >= k\n",
    "        \"\"\"\n",
    "        \n",
    "        if high < low:\n",
    "            return high + 1 # no element qualifies\n",
    "        else:\n",
    "            mid = (low + high )/ 2\n",
    "            if k == self._table[mid]._key:\n",
    "                return mid\n",
    "            elif k < self._table[mid]._key:\n",
    "                return self._find_index(k, low, mid - 1) # may return mid\n",
    "            else:\n",
    "                return self._find_index(k, mid + 1, high) # answer is right of mid\n",
    "            \n",
    "    #---------public behvaiors\n",
    "    def __init__(self):\n",
    "        \"\"\"Create an empty map\"\"\"\n",
    "        self._table = []\n",
    "        \n",
    "    def __len__(self):\n",
    "        \"\"\"Return the number of items in the map\"\"\"\n",
    "        return len(self._table)\n",
    "    \n",
    "    def __getitem__(self, k):\n",
    "        \"\"\"Return value associated with key k, raise KeyError if not found\"\"\"\n",
    "        j = self._find_index(k, 0, len(self._table) - 1)\n",
    "        if j == len(self._table) or self._table[j]._key != k:\n",
    "            raise KeyError('Key Error: ' + repr(k))\n",
    "        return self._table[j]._value\n",
    "    \n",
    "    def __setitem__(self, k, v):\n",
    "        \"\"\"Assign value v to key k, overwriting existing value if present\"\"\"\n",
    "        j = self._find_index(k, 0, len(self._table) - 1)\n",
    "        if j < len(self._table) and self._table[j]._key == k:\n",
    "            self._table[j]._value = v # reassign value\n",
    "        else:\n",
    "            self._table.insert(j, self._Item(k, v)) # create a new item and add it\n",
    "            \n",
    "    def __delitem__(self, k):\n",
    "        \"\"\"Remove item associated with key k. Raise KeyError if not found\"\"\"\n",
    "        j = self._find_index(k, 0, len(self._table) - 1)\n",
    "        if j == len(self._table) or self._table[j] != k:\n",
    "            raise KeyError('Key Error: ' + repr(k))\n",
    "        self._table.pop(j) # delete item\n",
    "        \n",
    "    def __iter__(self):\n",
    "        \"\"\"Generate keys of the map ordered from minimum to maximum\"\"\"\n",
    "        for item in self._table:\n",
    "            yield item._key\n",
    "            \n",
    "    def find_min(self):\n",
    "        \"\"\"Return (key, value) pair with minimum key (or None if empty)\"\"\"\n",
    "        if len(self._table) > 0:\n",
    "            return (self._table[0]._key, self._table[0]._value)\n",
    "        else:\n",
    "            return None\n",
    "    \n",
    "    def find_max(self):\n",
    "        \"\"\"Return (key, value) pair with maximum key (or None if empty)\"\"\"\n",
    "        if len(self._table) > 0:\n",
    "            return (self._table[-1]._key, self._table[-1]._value)\n",
    "        else:\n",
    "            return None\n",
    "    \n",
    "    def find_ge(self, k):\n",
    "        \"\"\"Return (key, value) pair with least key greater than or equal to k\"\"\"\n",
    "        j = self._find_index(k, 0, len(self._table) - 1) # j's key >= k\n",
    "        if j < len(self._table):\n",
    "            return (self._table[j]._key, self._table[j]._value)\n",
    "        else:\n",
    "            return None\n",
    "        \n",
    "    def find_It(self, k):\n",
    "        \"\"\"Return (key, value) pair with greatest key strictly less than k\"\"\"\n",
    "        j = self._find_index(k, 0, len(self._table) -1)\n",
    "        if j > 0:\n",
    "            return (self._table[j - 1]._key, self._table[j-1]._value)\n",
    "        else:\n",
    "            return None\n",
    "        \n",
    "    def find_gt(self, k):\n",
    "        \"\"\"Return (key, value) pair with least key strictly greater than k\"\"\"\n",
    "        j = self._find_index(k, 0, len(self._table) - 1)\n",
    "        if j < len(self._table) and self._table[j]._key == k:\n",
    "            j += 1\n",
    "        if j < len(self._table):\n",
    "            return (self._table[j]._key, self._table[j]._value)\n",
    "        else:\n",
    "            return None\n",
    "        \n",
    "    def find_range(self, start, stop):\n",
    "        \"\"\"Iterate all (key, value) pairs such that start <= key < stop\n",
    "        \n",
    "        If start is None, iteration begings with minimum key of map\n",
    "        If stop is None, iteration continues through the maximum key of map\"\"\"\n",
    "        \n",
    "        if start is None:\n",
    "            j = 0\n",
    "        else:\n",
    "            j = self._find_index(start, 0, len(self._table) - 1) # find first result\n",
    "            while j < len(self._table) and (stop is None or self._table[j]._key < stop):\n",
    "                yield (self._table[j]._key, self._table[j]._value)\n",
    "                j += 1"
   ]
  },
  {
   "cell_type": "code",
   "execution_count": null,
   "id": "excellent-sheep",
   "metadata": {},
   "outputs": [],
   "source": []
  }
 ],
 "metadata": {
  "kernelspec": {
   "display_name": "Python 3",
   "language": "python",
   "name": "python3"
  },
  "language_info": {
   "codemirror_mode": {
    "name": "ipython",
    "version": 3
   },
   "file_extension": ".py",
   "mimetype": "text/x-python",
   "name": "python",
   "nbconvert_exporter": "python",
   "pygments_lexer": "ipython3",
   "version": "3.9.2"
  }
 },
 "nbformat": 4,
 "nbformat_minor": 5
}
