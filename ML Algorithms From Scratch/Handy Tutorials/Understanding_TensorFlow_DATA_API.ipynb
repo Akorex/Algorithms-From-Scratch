{
  "nbformat": 4,
  "nbformat_minor": 0,
  "metadata": {
    "colab": {
      "name": "Understanding TensorFlow DATA API.ipynb",
      "provenance": [],
      "collapsed_sections": []
    },
    "kernelspec": {
      "name": "python3",
      "display_name": "Python 3"
    },
    "language_info": {
      "name": "python"
    }
  },
  "cells": [
    {
      "cell_type": "code",
      "execution_count": 1,
      "metadata": {
        "id": "HeKHnMjE-yjG"
      },
      "outputs": [],
      "source": [
        "import tensorflow as tf"
      ]
    },
    {
      "cell_type": "code",
      "source": [
        "list = range(10)\n",
        "list"
      ],
      "metadata": {
        "colab": {
          "base_uri": "https://localhost:8080/"
        },
        "id": "TJ3br4E_CH_X",
        "outputId": "bc88b4f7-571f-45d2-ef96-3cbef246725a"
      },
      "execution_count": 2,
      "outputs": [
        {
          "output_type": "execute_result",
          "data": {
            "text/plain": [
              "range(0, 10)"
            ]
          },
          "metadata": {},
          "execution_count": 2
        }
      ]
    },
    {
      "cell_type": "code",
      "source": [
        "dataset = tf.data.Dataset.from_tensor_slices(range(10))\n",
        "dataset"
      ],
      "metadata": {
        "colab": {
          "base_uri": "https://localhost:8080/"
        },
        "id": "l6tn1a3gCKh-",
        "outputId": "1cc25cc3-828b-41b8-a2bf-9a92e3d3a346"
      },
      "execution_count": 3,
      "outputs": [
        {
          "output_type": "execute_result",
          "data": {
            "text/plain": [
              "<TensorSliceDataset element_spec=TensorSpec(shape=(), dtype=tf.int32, name=None)>"
            ]
          },
          "metadata": {},
          "execution_count": 3
        }
      ]
    },
    {
      "cell_type": "code",
      "source": [
        "for item in dataset:\n",
        "    print(item.numpy())"
      ],
      "metadata": {
        "colab": {
          "base_uri": "https://localhost:8080/"
        },
        "id": "bO6Snwi9CRSJ",
        "outputId": "fb1a81b0-a534-4d68-9f8c-1d0719aff12c"
      },
      "execution_count": 4,
      "outputs": [
        {
          "output_type": "stream",
          "name": "stdout",
          "text": [
            "0\n",
            "1\n",
            "2\n",
            "3\n",
            "4\n",
            "5\n",
            "6\n",
            "7\n",
            "8\n",
            "9\n"
          ]
        }
      ]
    },
    {
      "cell_type": "code",
      "source": [
        "it = iter(dataset)\n",
        "next(it)"
      ],
      "metadata": {
        "colab": {
          "base_uri": "https://localhost:8080/"
        },
        "id": "4WeG15A3CYr0",
        "outputId": "19db22e2-93bb-4317-e498-c8d2a3256b89"
      },
      "execution_count": 5,
      "outputs": [
        {
          "output_type": "execute_result",
          "data": {
            "text/plain": [
              "<tf.Tensor: shape=(), dtype=int32, numpy=0>"
            ]
          },
          "metadata": {},
          "execution_count": 5
        }
      ]
    },
    {
      "cell_type": "code",
      "source": [
        "next(it).numpy()"
      ],
      "metadata": {
        "colab": {
          "base_uri": "https://localhost:8080/"
        },
        "id": "8C4dIMyICchl",
        "outputId": "5f1a9afa-a4c5-4827-84c1-f50864878d24"
      },
      "execution_count": 6,
      "outputs": [
        {
          "output_type": "execute_result",
          "data": {
            "text/plain": [
              "1"
            ]
          },
          "metadata": {},
          "execution_count": 6
        }
      ]
    },
    {
      "cell_type": "code",
      "source": [
        "print(dataset.reduce(0, lambda state, value: state + value).numpy())"
      ],
      "metadata": {
        "colab": {
          "base_uri": "https://localhost:8080/"
        },
        "id": "5pb0x0DpCewO",
        "outputId": "63d8f1d7-8463-484d-a8e3-e502aed86f3a"
      },
      "execution_count": 7,
      "outputs": [
        {
          "output_type": "stream",
          "name": "stdout",
          "text": [
            "45\n"
          ]
        }
      ]
    },
    {
      "cell_type": "code",
      "source": [
        "dataset = dataset.repeat(3).batch(7)\n",
        "for item in dataset:\n",
        "    print(item.numpy())"
      ],
      "metadata": {
        "colab": {
          "base_uri": "https://localhost:8080/"
        },
        "id": "ECAbCyXJFF9a",
        "outputId": "19f6ef10-3b59-410e-b3ab-cf22fc79d9ea"
      },
      "execution_count": 8,
      "outputs": [
        {
          "output_type": "stream",
          "name": "stdout",
          "text": [
            "[0 1 2 3 4 5 6]\n",
            "[7 8 9 0 1 2 3]\n",
            "[4 5 6 7 8 9 0]\n",
            "[1 2 3 4 5 6 7]\n",
            "[8 9]\n"
          ]
        }
      ]
    },
    {
      "cell_type": "code",
      "source": [
        "dataset = tf.data.Dataset.from_tensor_slices([1, 2, 3, 4, 5])\n",
        "dataset = dataset.repeat(3)\n",
        "for item in dataset:\n",
        "    print(item.numpy())"
      ],
      "metadata": {
        "colab": {
          "base_uri": "https://localhost:8080/"
        },
        "id": "WL2JLBGSFgtD",
        "outputId": "3f3b14ea-decf-4a9f-f3ae-e94333bf720b"
      },
      "execution_count": 9,
      "outputs": [
        {
          "output_type": "stream",
          "name": "stdout",
          "text": [
            "1\n",
            "2\n",
            "3\n",
            "4\n",
            "5\n",
            "1\n",
            "2\n",
            "3\n",
            "4\n",
            "5\n",
            "1\n",
            "2\n",
            "3\n",
            "4\n",
            "5\n"
          ]
        }
      ]
    },
    {
      "cell_type": "code",
      "source": [
        "dataset = dataset.map(lambda x: x**2)\n",
        "for item in dataset:\n",
        "    print(item.numpy())"
      ],
      "metadata": {
        "colab": {
          "base_uri": "https://localhost:8080/"
        },
        "id": "ndnjFm4sF3De",
        "outputId": "050dbb58-7786-4ef4-b78d-cf3c09c33df4"
      },
      "execution_count": 10,
      "outputs": [
        {
          "output_type": "stream",
          "name": "stdout",
          "text": [
            "1\n",
            "4\n",
            "9\n",
            "16\n",
            "25\n",
            "1\n",
            "4\n",
            "9\n",
            "16\n",
            "25\n",
            "1\n",
            "4\n",
            "9\n",
            "16\n",
            "25\n"
          ]
        }
      ]
    },
    {
      "cell_type": "code",
      "source": [
        "del list"
      ],
      "metadata": {
        "id": "6JoohFHl-gNw"
      },
      "execution_count": 11,
      "outputs": []
    },
    {
      "cell_type": "code",
      "source": [
        "elements = [[1, 2, 3], [4, 5, 6], [7, 8, 9]]\n",
        "dataset = tf.data.Dataset.from_generator(lambda: elements, tf.int64)\n",
        "\n",
        "for batch in dataset:\n",
        "    print(batch.numpy())"
      ],
      "metadata": {
        "colab": {
          "base_uri": "https://localhost:8080/"
        },
        "id": "gt0vt9JgGSTe",
        "outputId": "389dade3-4f2a-4263-d8c3-85bbea02e146"
      },
      "execution_count": 12,
      "outputs": [
        {
          "output_type": "stream",
          "name": "stdout",
          "text": [
            "[1 2 3]\n",
            "[4 5 6]\n",
            "[7 8 9]\n"
          ]
        }
      ]
    },
    {
      "cell_type": "code",
      "source": [
        "dataset = dataset.unbatch()\n",
        "list(dataset.as_numpy_iterator())"
      ],
      "metadata": {
        "colab": {
          "base_uri": "https://localhost:8080/"
        },
        "id": "0LVApNu5G3o0",
        "outputId": "82356ec9-769a-4b1c-ad85-056a42e81050"
      },
      "execution_count": 13,
      "outputs": [
        {
          "output_type": "execute_result",
          "data": {
            "text/plain": [
              "[1, 2, 3, 4, 5, 6, 7, 8, 9]"
            ]
          },
          "metadata": {},
          "execution_count": 13
        }
      ]
    },
    {
      "cell_type": "code",
      "source": [
        "for item in dataset:\n",
        "    print(item.numpy())"
      ],
      "metadata": {
        "colab": {
          "base_uri": "https://localhost:8080/"
        },
        "id": "PXCX4tJ5IW4a",
        "outputId": "29744a85-1fbc-4b46-dc82-e947ba6b11c3"
      },
      "execution_count": 14,
      "outputs": [
        {
          "output_type": "stream",
          "name": "stdout",
          "text": [
            "1\n",
            "2\n",
            "3\n",
            "4\n",
            "5\n",
            "6\n",
            "7\n",
            "8\n",
            "9\n"
          ]
        }
      ]
    },
    {
      "cell_type": "code",
      "source": [
        "dataset.element_spec"
      ],
      "metadata": {
        "colab": {
          "base_uri": "https://localhost:8080/"
        },
        "id": "mPumuaCLJSNx",
        "outputId": "9742538f-d0f9-49aa-8500-601fa80ce2bb"
      },
      "execution_count": 15,
      "outputs": [
        {
          "output_type": "execute_result",
          "data": {
            "text/plain": [
              "TensorSpec(shape=<unknown>, dtype=tf.int64, name=None)"
            ]
          },
          "metadata": {},
          "execution_count": 15
        }
      ]
    },
    {
      "cell_type": "code",
      "source": [
        "dataset1 = tf.data.Dataset.from_tensor_slices(tf.random.uniform([4, 10], minval=1, maxval=10, dtype=tf.int32))\n",
        "dataset1"
      ],
      "metadata": {
        "colab": {
          "base_uri": "https://localhost:8080/"
        },
        "id": "4ik8-XQgKVbO",
        "outputId": "9dcc88c5-b7bd-403f-c085-dab69f4a54d8"
      },
      "execution_count": 16,
      "outputs": [
        {
          "output_type": "execute_result",
          "data": {
            "text/plain": [
              "<TensorSliceDataset element_spec=TensorSpec(shape=(10,), dtype=tf.int32, name=None)>"
            ]
          },
          "metadata": {},
          "execution_count": 16
        }
      ]
    },
    {
      "cell_type": "code",
      "source": [
        "for item in dataset1:\n",
        "    print(item.numpy())"
      ],
      "metadata": {
        "colab": {
          "base_uri": "https://localhost:8080/"
        },
        "id": "wqST0_MMM6Wq",
        "outputId": "41ee9842-35b0-4769-dee6-e56208688a85"
      },
      "execution_count": 17,
      "outputs": [
        {
          "output_type": "stream",
          "name": "stdout",
          "text": [
            "[4 8 7 3 3 5 5 2 4 8]\n",
            "[1 2 1 1 1 8 4 3 7 1]\n",
            "[5 2 9 8 6 2 6 2 7 8]\n",
            "[6 9 8 8 9 1 4 3 5 7]\n"
          ]
        }
      ]
    },
    {
      "cell_type": "code",
      "source": [
        "dataset2 = tf.data.Dataset.from_tensor_slices((tf.random.uniform([4]), tf.random.uniform([4, 100], maxval=100, dtype=tf.int32)))\n",
        "for item in dataset2:\n",
        "    print(item)"
      ],
      "metadata": {
        "colab": {
          "base_uri": "https://localhost:8080/"
        },
        "id": "9ZxuiYB6NAT0",
        "outputId": "3cfda91d-0700-4927-8d7b-5abf69cc5e0e"
      },
      "execution_count": 18,
      "outputs": [
        {
          "output_type": "stream",
          "name": "stdout",
          "text": [
            "(<tf.Tensor: shape=(), dtype=float32, numpy=0.20005393>, <tf.Tensor: shape=(100,), dtype=int32, numpy=\n",
            "array([34, 66, 34, 66, 25,  9, 16,  7, 34, 78, 76, 10, 64, 29,  4, 59, 63,\n",
            "       91, 50, 91, 21, 62, 55, 24, 18, 18,  4, 23,  2, 56, 79, 65, 56, 10,\n",
            "       79,  4, 73, 41, 29, 32, 94, 85, 21, 53, 57, 87, 38, 28, 31, 73, 16,\n",
            "       23, 53, 34, 50, 95, 88, 41, 50, 92, 51, 67, 51, 92,  6, 49, 63, 27,\n",
            "       59, 14, 96, 48, 94, 60, 96, 31, 58, 97, 43, 95, 60, 83, 41, 42, 30,\n",
            "       42, 12,  2, 19, 60, 97, 23, 35, 38, 41, 50, 29,  9, 89, 39],\n",
            "      dtype=int32)>)\n",
            "(<tf.Tensor: shape=(), dtype=float32, numpy=0.5728868>, <tf.Tensor: shape=(100,), dtype=int32, numpy=\n",
            "array([71, 81,  8,  1,  9, 37,  2,  1, 49, 77, 23, 37, 90, 27, 12, 24, 21,\n",
            "       70, 83,  8, 17, 99, 51, 70, 34,  9, 52, 25,  4, 35, 71, 62, 66, 25,\n",
            "       44, 49,  4, 98, 58, 59, 97, 68, 79, 88, 86, 36,  4, 89, 31,  1, 84,\n",
            "       27, 71,  1, 12, 71, 13, 70, 21, 97, 17, 43, 92, 29, 73, 58, 12, 13,\n",
            "        7,  5, 33,  9, 42, 83,  2, 63, 49, 15, 72, 60,  4, 58, 53, 53, 16,\n",
            "       87, 97, 21, 24, 31, 13, 85, 76, 24, 34, 24, 86, 53,  5, 98],\n",
            "      dtype=int32)>)\n",
            "(<tf.Tensor: shape=(), dtype=float32, numpy=0.57627094>, <tf.Tensor: shape=(100,), dtype=int32, numpy=\n",
            "array([66, 84, 88, 42, 81, 17, 73, 69, 42, 31, 55, 63,  5, 60, 80, 64,  0,\n",
            "       71, 73, 73, 53, 88, 19, 12, 87, 94, 26, 65, 63,  4, 53, 81, 30, 69,\n",
            "       76, 48, 46, 34, 19, 54,  9, 93, 77, 75, 13, 87, 81, 33,  2, 94, 14,\n",
            "       50, 77, 56, 54, 71, 81, 95,  6, 38, 75, 91, 96, 10, 56, 60, 57, 37,\n",
            "       23, 61, 95, 52, 74,  9, 66, 34, 99, 19, 21, 76, 48, 34, 48, 93, 65,\n",
            "       65,  1, 84,  1, 62, 58, 92, 11,  9, 41, 55, 92, 22, 11, 39],\n",
            "      dtype=int32)>)\n",
            "(<tf.Tensor: shape=(), dtype=float32, numpy=0.90735674>, <tf.Tensor: shape=(100,), dtype=int32, numpy=\n",
            "array([45, 49, 31, 19, 32, 96, 44, 93,  7, 89, 13,  3,  3, 47, 19, 65, 74,\n",
            "       46, 66, 49, 87, 79, 79, 95, 90, 75, 78, 55, 10, 97, 18,  6,  0, 26,\n",
            "       16, 19,  6, 70,  4, 27, 94, 59, 26, 46, 40, 25, 30, 67, 82, 86, 26,\n",
            "       11, 22, 84, 72,  9, 98, 44, 60, 51, 71, 95, 33, 76, 88, 85, 36, 38,\n",
            "       29, 41, 42,  9,  3, 29, 79, 11, 95, 89, 88, 65,  5, 30, 10, 49,  7,\n",
            "       38, 61, 74, 53, 95, 51, 39, 98, 40, 37, 82,  4, 99, 30, 22],\n",
            "      dtype=int32)>)\n"
          ]
        }
      ]
    },
    {
      "cell_type": "code",
      "source": [
        "dataset3 = tf.data.Dataset.zip((dataset1, dataset2))\n",
        "\n",
        "dataset3.element_spec"
      ],
      "metadata": {
        "colab": {
          "base_uri": "https://localhost:8080/"
        },
        "id": "mzbXc7jaNY1s",
        "outputId": "e66174e7-ad3b-4459-bc90-fb965f4ff34a"
      },
      "execution_count": 19,
      "outputs": [
        {
          "output_type": "execute_result",
          "data": {
            "text/plain": [
              "(TensorSpec(shape=(10,), dtype=tf.int32, name=None),\n",
              " (TensorSpec(shape=(), dtype=tf.float32, name=None),\n",
              "  TensorSpec(shape=(100,), dtype=tf.int32, name=None)))"
            ]
          },
          "metadata": {},
          "execution_count": 19
        }
      ]
    },
    {
      "cell_type": "code",
      "source": [
        "for a, (b, c) in dataset3:\n",
        "    print(f\"shapes: {a.shape} {b.shape} {c.shape}\")"
      ],
      "metadata": {
        "colab": {
          "base_uri": "https://localhost:8080/"
        },
        "id": "x4KJoxIFNvmU",
        "outputId": "bfd55017-ca7f-47fa-b4a1-e1d152a89f78"
      },
      "execution_count": 20,
      "outputs": [
        {
          "output_type": "stream",
          "name": "stdout",
          "text": [
            "shapes: (10,) () (100,)\n",
            "shapes: (10,) () (100,)\n",
            "shapes: (10,) () (100,)\n",
            "shapes: (10,) () (100,)\n"
          ]
        }
      ]
    },
    {
      "cell_type": "markdown",
      "source": [
        "### Using with generators"
      ],
      "metadata": {
        "id": "rKTb5MPTRcMg"
      }
    },
    {
      "cell_type": "code",
      "source": [
        "def count(stop):\n",
        "    i = 0\n",
        "    while i < stop:\n",
        "        yield i\n",
        "        i += 1"
      ],
      "metadata": {
        "id": "G_TxksCvOEYi"
      },
      "execution_count": 21,
      "outputs": []
    },
    {
      "cell_type": "code",
      "source": [
        "for i in count(6):\n",
        "    print(i)"
      ],
      "metadata": {
        "colab": {
          "base_uri": "https://localhost:8080/"
        },
        "id": "jUYctlSCSOqD",
        "outputId": "c460f0c4-455c-43b4-e73f-18abbd4099cc"
      },
      "execution_count": 22,
      "outputs": [
        {
          "output_type": "stream",
          "name": "stdout",
          "text": [
            "0\n",
            "1\n",
            "2\n",
            "3\n",
            "4\n",
            "5\n"
          ]
        }
      ]
    },
    {
      "cell_type": "code",
      "source": [
        "ds_counter = tf.data.Dataset.from_generator(count, args=[25], output_types=tf.int32, output_shapes=(),)"
      ],
      "metadata": {
        "id": "f6yZQLwySpQo"
      },
      "execution_count": 23,
      "outputs": []
    },
    {
      "cell_type": "code",
      "source": [
        "for batch in ds_counter.batch(10):\n",
        "    print(batch.numpy())"
      ],
      "metadata": {
        "colab": {
          "base_uri": "https://localhost:8080/"
        },
        "id": "tQs5HijISQ9j",
        "outputId": "a7387317-8e63-4062-968e-d29c4654b936"
      },
      "execution_count": 24,
      "outputs": [
        {
          "output_type": "stream",
          "name": "stdout",
          "text": [
            "[0 1 2 3 4 5 6 7 8 9]\n",
            "[10 11 12 13 14 15 16 17 18 19]\n",
            "[20 21 22 23 24]\n"
          ]
        }
      ]
    },
    {
      "cell_type": "code",
      "source": [
        "flowers = tf.keras.utils.get_file(\n",
        "    'flower_photos',\n",
        "    'https://storage.googleapis.com/download.tensorflow.org/example_images/flower_photos.tgz',\n",
        "    untar=True)"
      ],
      "metadata": {
        "colab": {
          "base_uri": "https://localhost:8080/"
        },
        "id": "iOCZh8gaTTx4",
        "outputId": "bbf615f1-8129-4180-8fe3-a2fe0b1d6f0a"
      },
      "execution_count": 25,
      "outputs": [
        {
          "output_type": "stream",
          "name": "stdout",
          "text": [
            "Downloading data from https://storage.googleapis.com/download.tensorflow.org/example_images/flower_photos.tgz\n",
            "228818944/228813984 [==============================] - 3s 0us/step\n",
            "228827136/228813984 [==============================] - 3s 0us/step\n"
          ]
        }
      ]
    },
    {
      "cell_type": "code",
      "source": [
        "from tensorflow.keras.preprocessing.image import ImageDataGenerator\n",
        "\n",
        "img_gen = ImageDataGenerator(rescale=1./255, rotation_range=20)\n",
        "images, labels = next(img_gen.flow_from_directory(flowers))"
      ],
      "metadata": {
        "colab": {
          "base_uri": "https://localhost:8080/"
        },
        "id": "WfHAyiP9Tny0",
        "outputId": "eb3e5fb5-1f52-4faf-87be-32e6c29e288d"
      },
      "execution_count": 26,
      "outputs": [
        {
          "output_type": "stream",
          "name": "stdout",
          "text": [
            "Found 3670 images belonging to 5 classes.\n"
          ]
        }
      ]
    },
    {
      "cell_type": "code",
      "source": [
        "images.shape"
      ],
      "metadata": {
        "colab": {
          "base_uri": "https://localhost:8080/"
        },
        "id": "eyBak274T0st",
        "outputId": "a22f790c-1965-4eeb-9c4f-c6cb8db58cb0"
      },
      "execution_count": 27,
      "outputs": [
        {
          "output_type": "execute_result",
          "data": {
            "text/plain": [
              "(32, 256, 256, 3)"
            ]
          },
          "metadata": {},
          "execution_count": 27
        }
      ]
    },
    {
      "cell_type": "code",
      "source": [
        "labels[0]"
      ],
      "metadata": {
        "colab": {
          "base_uri": "https://localhost:8080/"
        },
        "id": "asQlP47VUE9e",
        "outputId": "4ce18912-d4da-4097-8210-caca37c40bb5"
      },
      "execution_count": 28,
      "outputs": [
        {
          "output_type": "execute_result",
          "data": {
            "text/plain": [
              "array([1., 0., 0., 0., 0.], dtype=float32)"
            ]
          },
          "metadata": {},
          "execution_count": 28
        }
      ]
    },
    {
      "cell_type": "code",
      "source": [
        "dataset = tf.data.Dataset.from_generator(lambda: img_gen.flow_from_directory(flowers), output_types=(tf.float32, tf.float32), \n",
        "                                         output_shapes=(images.shape, labels.shape))"
      ],
      "metadata": {
        "id": "M_sgy0MJUJOY"
      },
      "execution_count": 29,
      "outputs": []
    },
    {
      "cell_type": "code",
      "source": [
        "for images, labels in dataset.take(1):\n",
        "    print(images.shape)\n",
        "    print(labels.shape)"
      ],
      "metadata": {
        "colab": {
          "base_uri": "https://localhost:8080/"
        },
        "id": "QzhozTgkUpnI",
        "outputId": "f446afb6-d0d9-4e3d-94a3-94f129d89b07"
      },
      "execution_count": 30,
      "outputs": [
        {
          "output_type": "stream",
          "name": "stdout",
          "text": [
            "Found 3670 images belonging to 5 classes.\n",
            "(32, 256, 256, 3)\n",
            "(32, 5)\n"
          ]
        }
      ]
    },
    {
      "cell_type": "code",
      "source": [
        "x = [1, 2, 3, 4, 5, 6]\n",
        "\n",
        "dataset = tf.data.Dataset.from_tensor_slices(x)\n",
        "dataset = dataset.repeat(2).batch(5, drop_remainder=True)"
      ],
      "metadata": {
        "id": "gYVCYFwJVAjP"
      },
      "execution_count": 31,
      "outputs": []
    },
    {
      "cell_type": "code",
      "source": [
        "for item in dataset:\n",
        "    print(item.numpy())"
      ],
      "metadata": {
        "colab": {
          "base_uri": "https://localhost:8080/"
        },
        "id": "9W0_2hAoLVVL",
        "outputId": "2da53f6d-801b-4a35-9c93-990acba243bd"
      },
      "execution_count": 32,
      "outputs": [
        {
          "output_type": "stream",
          "name": "stdout",
          "text": [
            "[1 2 3 4 5]\n",
            "[6 1 2 3 4]\n"
          ]
        }
      ]
    },
    {
      "cell_type": "markdown",
      "source": [
        "### TFRecord Format"
      ],
      "metadata": {
        "id": "Iji-zfPTLzaX"
      }
    },
    {
      "cell_type": "code",
      "source": [
        "with tf.io.TFRecordWriter('my_data.tfrecord') as f:\n",
        "    f.write(b\"This is my first record.\")\n",
        "    f.write(b\"This is my second record.\")"
      ],
      "metadata": {
        "id": "LCnnc8uoMQUe"
      },
      "execution_count": 33,
      "outputs": []
    },
    {
      "cell_type": "code",
      "source": [
        "filepaths = ['my_data.tfrecord']\n",
        "dataset = tf.data.TFRecordDataset(filepaths)\n",
        "\n",
        "for item in dataset:\n",
        "    print(item.numpy())"
      ],
      "metadata": {
        "colab": {
          "base_uri": "https://localhost:8080/"
        },
        "id": "ZkgLlMAIRXps",
        "outputId": "336e969e-eb5f-4c31-ea17-fcf5c134d714"
      },
      "execution_count": 35,
      "outputs": [
        {
          "output_type": "stream",
          "name": "stdout",
          "text": [
            "b'This is my first record.'\n",
            "b'This is my second record.'\n"
          ]
        }
      ]
    },
    {
      "cell_type": "code",
      "source": [
        "from tensorflow.train import Feature, Example, BytesList, Features, FloatList, Int64List\n",
        "\n",
        "person_example = Example(features = Features(feature={\n",
        "    'name': Feature(bytes_list=BytesList(value=[b'Alice'])), \n",
        "    'id': Feature(int64_list = Int64List(value=[123])), \n",
        "    'emails': Feature(bytes_list = BytesList(value=[b'akoredeadewole8@gmail.com']))\n",
        "}))"
      ],
      "metadata": {
        "id": "T_AFFQbwSOOh"
      },
      "execution_count": 37,
      "outputs": []
    },
    {
      "cell_type": "code",
      "source": [
        "with tf.io.TFRecordWriter('my_contacts.tfrecord') as f:\n",
        "    f.write(person_example.SerializeToString())"
      ],
      "metadata": {
        "id": "pOUg5RZUWiwI"
      },
      "execution_count": 38,
      "outputs": []
    },
    {
      "cell_type": "code",
      "source": [
        ""
      ],
      "metadata": {
        "id": "qcoarckTXT_w"
      },
      "execution_count": null,
      "outputs": []
    }
  ]
}